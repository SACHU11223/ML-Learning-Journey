{
 "cells": [
  {
   "cell_type": "code",
   "execution_count": 1,
   "id": "1f6c2f3c",
   "metadata": {
    "_cell_guid": "b1076dfc-b9ad-4769-8c92-a6c4dae69d19",
    "_uuid": "8f2839f25d086af736a60e9eeb907d3b93b6e0e5",
    "execution": {
     "iopub.execute_input": "2025-08-29T17:04:06.984383Z",
     "iopub.status.busy": "2025-08-29T17:04:06.983860Z",
     "iopub.status.idle": "2025-08-29T17:04:10.606707Z",
     "shell.execute_reply": "2025-08-29T17:04:10.605887Z"
    },
    "papermill": {
     "duration": 3.629713,
     "end_time": "2025-08-29T17:04:10.608189",
     "exception": false,
     "start_time": "2025-08-29T17:04:06.978476",
     "status": "completed"
    },
    "tags": []
   },
   "outputs": [],
   "source": [
    "import numpy as np\n",
    "import pandas as pd\n",
    "from sklearn.model_selection import train_test_split\n",
    "from sklearn.ensemble import RandomForestClassifier\n",
    "from sklearn.metrics import accuracy_score, confusion_matrix, classification_report"
   ]
  },
  {
   "cell_type": "code",
   "execution_count": 2,
   "id": "5ff1d929",
   "metadata": {
    "execution": {
     "iopub.execute_input": "2025-08-29T17:04:10.613780Z",
     "iopub.status.busy": "2025-08-29T17:04:10.613359Z",
     "iopub.status.idle": "2025-08-29T17:04:10.620439Z",
     "shell.execute_reply": "2025-08-29T17:04:10.619485Z"
    },
    "papermill": {
     "duration": 0.011264,
     "end_time": "2025-08-29T17:04:10.621935",
     "exception": false,
     "start_time": "2025-08-29T17:04:10.610671",
     "status": "completed"
    },
    "tags": []
   },
   "outputs": [],
   "source": [
    "data = {\n",
    "    \"Hours\": [1, 2, 3, 4, 5, 6, 7, 8, 9, 10],\n",
    "    \"Pass\":[0, 0, 0, 0, 1, 1, 1, 1, 1, 1]\n",
    "}\n",
    "\n",
    "df = pd.DataFrame(data)"
   ]
  },
  {
   "cell_type": "code",
   "execution_count": 3,
   "id": "46cf22f7",
   "metadata": {
    "execution": {
     "iopub.execute_input": "2025-08-29T17:04:10.627053Z",
     "iopub.status.busy": "2025-08-29T17:04:10.626726Z",
     "iopub.status.idle": "2025-08-29T17:04:10.640686Z",
     "shell.execute_reply": "2025-08-29T17:04:10.639677Z"
    },
    "papermill": {
     "duration": 0.018084,
     "end_time": "2025-08-29T17:04:10.642210",
     "exception": false,
     "start_time": "2025-08-29T17:04:10.624126",
     "status": "completed"
    },
    "tags": []
   },
   "outputs": [],
   "source": [
    "X = df[['Hours']]\n",
    "y = df['Pass']"
   ]
  },
  {
   "cell_type": "code",
   "execution_count": 4,
   "id": "af59a98b",
   "metadata": {
    "execution": {
     "iopub.execute_input": "2025-08-29T17:04:10.647506Z",
     "iopub.status.busy": "2025-08-29T17:04:10.647180Z",
     "iopub.status.idle": "2025-08-29T17:04:10.653891Z",
     "shell.execute_reply": "2025-08-29T17:04:10.653157Z"
    },
    "papermill": {
     "duration": 0.010916,
     "end_time": "2025-08-29T17:04:10.655247",
     "exception": false,
     "start_time": "2025-08-29T17:04:10.644331",
     "status": "completed"
    },
    "tags": []
   },
   "outputs": [],
   "source": [
    "X_train, X_test, y_train, y_test = train_test_split(X, y, test_size=0.3, random_state =42)"
   ]
  },
  {
   "cell_type": "code",
   "execution_count": 5,
   "id": "fa5afdca",
   "metadata": {
    "execution": {
     "iopub.execute_input": "2025-08-29T17:04:10.660171Z",
     "iopub.status.busy": "2025-08-29T17:04:10.659842Z",
     "iopub.status.idle": "2025-08-29T17:04:10.798491Z",
     "shell.execute_reply": "2025-08-29T17:04:10.797503Z"
    },
    "papermill": {
     "duration": 0.142984,
     "end_time": "2025-08-29T17:04:10.800233",
     "exception": false,
     "start_time": "2025-08-29T17:04:10.657249",
     "status": "completed"
    },
    "tags": []
   },
   "outputs": [
    {
     "data": {
      "text/html": [
       "<style>#sk-container-id-1 {color: black;background-color: white;}#sk-container-id-1 pre{padding: 0;}#sk-container-id-1 div.sk-toggleable {background-color: white;}#sk-container-id-1 label.sk-toggleable__label {cursor: pointer;display: block;width: 100%;margin-bottom: 0;padding: 0.3em;box-sizing: border-box;text-align: center;}#sk-container-id-1 label.sk-toggleable__label-arrow:before {content: \"▸\";float: left;margin-right: 0.25em;color: #696969;}#sk-container-id-1 label.sk-toggleable__label-arrow:hover:before {color: black;}#sk-container-id-1 div.sk-estimator:hover label.sk-toggleable__label-arrow:before {color: black;}#sk-container-id-1 div.sk-toggleable__content {max-height: 0;max-width: 0;overflow: hidden;text-align: left;background-color: #f0f8ff;}#sk-container-id-1 div.sk-toggleable__content pre {margin: 0.2em;color: black;border-radius: 0.25em;background-color: #f0f8ff;}#sk-container-id-1 input.sk-toggleable__control:checked~div.sk-toggleable__content {max-height: 200px;max-width: 100%;overflow: auto;}#sk-container-id-1 input.sk-toggleable__control:checked~label.sk-toggleable__label-arrow:before {content: \"▾\";}#sk-container-id-1 div.sk-estimator input.sk-toggleable__control:checked~label.sk-toggleable__label {background-color: #d4ebff;}#sk-container-id-1 div.sk-label input.sk-toggleable__control:checked~label.sk-toggleable__label {background-color: #d4ebff;}#sk-container-id-1 input.sk-hidden--visually {border: 0;clip: rect(1px 1px 1px 1px);clip: rect(1px, 1px, 1px, 1px);height: 1px;margin: -1px;overflow: hidden;padding: 0;position: absolute;width: 1px;}#sk-container-id-1 div.sk-estimator {font-family: monospace;background-color: #f0f8ff;border: 1px dotted black;border-radius: 0.25em;box-sizing: border-box;margin-bottom: 0.5em;}#sk-container-id-1 div.sk-estimator:hover {background-color: #d4ebff;}#sk-container-id-1 div.sk-parallel-item::after {content: \"\";width: 100%;border-bottom: 1px solid gray;flex-grow: 1;}#sk-container-id-1 div.sk-label:hover label.sk-toggleable__label {background-color: #d4ebff;}#sk-container-id-1 div.sk-serial::before {content: \"\";position: absolute;border-left: 1px solid gray;box-sizing: border-box;top: 0;bottom: 0;left: 50%;z-index: 0;}#sk-container-id-1 div.sk-serial {display: flex;flex-direction: column;align-items: center;background-color: white;padding-right: 0.2em;padding-left: 0.2em;position: relative;}#sk-container-id-1 div.sk-item {position: relative;z-index: 1;}#sk-container-id-1 div.sk-parallel {display: flex;align-items: stretch;justify-content: center;background-color: white;position: relative;}#sk-container-id-1 div.sk-item::before, #sk-container-id-1 div.sk-parallel-item::before {content: \"\";position: absolute;border-left: 1px solid gray;box-sizing: border-box;top: 0;bottom: 0;left: 50%;z-index: -1;}#sk-container-id-1 div.sk-parallel-item {display: flex;flex-direction: column;z-index: 1;position: relative;background-color: white;}#sk-container-id-1 div.sk-parallel-item:first-child::after {align-self: flex-end;width: 50%;}#sk-container-id-1 div.sk-parallel-item:last-child::after {align-self: flex-start;width: 50%;}#sk-container-id-1 div.sk-parallel-item:only-child::after {width: 0;}#sk-container-id-1 div.sk-dashed-wrapped {border: 1px dashed gray;margin: 0 0.4em 0.5em 0.4em;box-sizing: border-box;padding-bottom: 0.4em;background-color: white;}#sk-container-id-1 div.sk-label label {font-family: monospace;font-weight: bold;display: inline-block;line-height: 1.2em;}#sk-container-id-1 div.sk-label-container {text-align: center;}#sk-container-id-1 div.sk-container {/* jupyter's `normalize.less` sets `[hidden] { display: none; }` but bootstrap.min.css set `[hidden] { display: none !important; }` so we also need the `!important` here to be able to override the default hidden behavior on the sphinx rendered scikit-learn.org. See: https://github.com/scikit-learn/scikit-learn/issues/21755 */display: inline-block !important;position: relative;}#sk-container-id-1 div.sk-text-repr-fallback {display: none;}</style><div id=\"sk-container-id-1\" class=\"sk-top-container\"><div class=\"sk-text-repr-fallback\"><pre>RandomForestClassifier(random_state=42)</pre><b>In a Jupyter environment, please rerun this cell to show the HTML representation or trust the notebook. <br />On GitHub, the HTML representation is unable to render, please try loading this page with nbviewer.org.</b></div><div class=\"sk-container\" hidden><div class=\"sk-item\"><div class=\"sk-estimator sk-toggleable\"><input class=\"sk-toggleable__control sk-hidden--visually\" id=\"sk-estimator-id-1\" type=\"checkbox\" checked><label for=\"sk-estimator-id-1\" class=\"sk-toggleable__label sk-toggleable__label-arrow\">RandomForestClassifier</label><div class=\"sk-toggleable__content\"><pre>RandomForestClassifier(random_state=42)</pre></div></div></div></div></div>"
      ],
      "text/plain": [
       "RandomForestClassifier(random_state=42)"
      ]
     },
     "execution_count": 5,
     "metadata": {},
     "output_type": "execute_result"
    }
   ],
   "source": [
    "model = RandomForestClassifier(n_estimators = 100, random_state =42)\n",
    "model.fit(X_train, y_train)"
   ]
  },
  {
   "cell_type": "code",
   "execution_count": 6,
   "id": "83dda02b",
   "metadata": {
    "execution": {
     "iopub.execute_input": "2025-08-29T17:04:10.806404Z",
     "iopub.status.busy": "2025-08-29T17:04:10.806120Z",
     "iopub.status.idle": "2025-08-29T17:04:10.816860Z",
     "shell.execute_reply": "2025-08-29T17:04:10.816136Z"
    },
    "papermill": {
     "duration": 0.015382,
     "end_time": "2025-08-29T17:04:10.818228",
     "exception": false,
     "start_time": "2025-08-29T17:04:10.802846",
     "status": "completed"
    },
    "tags": []
   },
   "outputs": [],
   "source": [
    "y_pred = model.predict(X_test)"
   ]
  },
  {
   "cell_type": "code",
   "execution_count": 7,
   "id": "d587a4ad",
   "metadata": {
    "execution": {
     "iopub.execute_input": "2025-08-29T17:04:10.824001Z",
     "iopub.status.busy": "2025-08-29T17:04:10.823458Z",
     "iopub.status.idle": "2025-08-29T17:04:10.840898Z",
     "shell.execute_reply": "2025-08-29T17:04:10.839899Z"
    },
    "papermill": {
     "duration": 0.02189,
     "end_time": "2025-08-29T17:04:10.842416",
     "exception": false,
     "start_time": "2025-08-29T17:04:10.820526",
     "status": "completed"
    },
    "tags": []
   },
   "outputs": [
    {
     "name": "stdout",
     "output_type": "stream",
     "text": [
      "Accuracy: 1.0\n",
      "Confusion_matrix: [[1 0]\n",
      " [0 2]]\n",
      "classification_score:               precision    recall  f1-score   support\n",
      "\n",
      "           0       1.00      1.00      1.00         1\n",
      "           1       1.00      1.00      1.00         2\n",
      "\n",
      "    accuracy                           1.00         3\n",
      "   macro avg       1.00      1.00      1.00         3\n",
      "weighted avg       1.00      1.00      1.00         3\n",
      "\n"
     ]
    }
   ],
   "source": [
    "print(\"Accuracy:\",accuracy_score(y_test, y_pred))\n",
    "print(\"Confusion_matrix:\",confusion_matrix(y_test, y_pred))\n",
    "print(\"classification_score:\",classification_report(y_test, y_pred))"
   ]
  }
 ],
 "metadata": {
  "kaggle": {
   "accelerator": "none",
   "dataSources": [],
   "dockerImageVersionId": 31089,
   "isGpuEnabled": false,
   "isInternetEnabled": false,
   "language": "python",
   "sourceType": "notebook"
  },
  "kernelspec": {
   "display_name": "Python 3",
   "language": "python",
   "name": "python3"
  },
  "language_info": {
   "codemirror_mode": {
    "name": "ipython",
    "version": 3
   },
   "file_extension": ".py",
   "mimetype": "text/x-python",
   "name": "python",
   "nbconvert_exporter": "python",
   "pygments_lexer": "ipython3",
   "version": "3.11.13"
  },
  "papermill": {
   "default_parameters": {},
   "duration": 9.460119,
   "end_time": "2025-08-29T17:04:11.463377",
   "environment_variables": {},
   "exception": null,
   "input_path": "__notebook__.ipynb",
   "output_path": "__notebook__.ipynb",
   "parameters": {},
   "start_time": "2025-08-29T17:04:02.003258",
   "version": "2.6.0"
  }
 },
 "nbformat": 4,
 "nbformat_minor": 5
}
