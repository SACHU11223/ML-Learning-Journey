{
 "cells": [
  {
   "cell_type": "code",
   "execution_count": 1,
   "id": "29be0860",
   "metadata": {
    "_cell_guid": "b1076dfc-b9ad-4769-8c92-a6c4dae69d19",
    "_uuid": "8f2839f25d086af736a60e9eeb907d3b93b6e0e5",
    "execution": {
     "iopub.execute_input": "2025-08-29T17:44:56.747656Z",
     "iopub.status.busy": "2025-08-29T17:44:56.747293Z",
     "iopub.status.idle": "2025-08-29T17:45:01.411972Z",
     "shell.execute_reply": "2025-08-29T17:45:01.410569Z"
    },
    "papermill": {
     "duration": 4.670977,
     "end_time": "2025-08-29T17:45:01.414259",
     "exception": false,
     "start_time": "2025-08-29T17:44:56.743282",
     "status": "completed"
    },
    "tags": []
   },
   "outputs": [],
   "source": [
    "from sklearn.ensemble import RandomForestRegressor\n",
    "import matplotlib.pyplot as plt\n",
    "import pandas as pd\n",
    "import numpy as np"
   ]
  },
  {
   "cell_type": "code",
   "execution_count": 2,
   "id": "eca1dc49",
   "metadata": {
    "execution": {
     "iopub.execute_input": "2025-08-29T17:45:01.421942Z",
     "iopub.status.busy": "2025-08-29T17:45:01.421460Z",
     "iopub.status.idle": "2025-08-29T17:45:01.433021Z",
     "shell.execute_reply": "2025-08-29T17:45:01.431748Z"
    },
    "papermill": {
     "duration": 0.016903,
     "end_time": "2025-08-29T17:45:01.434830",
     "exception": false,
     "start_time": "2025-08-29T17:45:01.417927",
     "status": "completed"
    },
    "tags": []
   },
   "outputs": [],
   "source": [
    "data = {\n",
    "    \"Marks\": [1, 2, 3, 4, 5, 6, 7, 8, 9, 10],\n",
    "    \"Hour\": [10, 20, 35, 40, 50, 60, 70, 85, 90, 95]\n",
    "}\n",
    "\n",
    "df = pd.DataFrame(data)"
   ]
  },
  {
   "cell_type": "code",
   "execution_count": 3,
   "id": "7c86dfb4",
   "metadata": {
    "execution": {
     "iopub.execute_input": "2025-08-29T17:45:01.440846Z",
     "iopub.status.busy": "2025-08-29T17:45:01.440481Z",
     "iopub.status.idle": "2025-08-29T17:45:01.461444Z",
     "shell.execute_reply": "2025-08-29T17:45:01.459597Z"
    },
    "papermill": {
     "duration": 0.026256,
     "end_time": "2025-08-29T17:45:01.463292",
     "exception": false,
     "start_time": "2025-08-29T17:45:01.437036",
     "status": "completed"
    },
    "tags": []
   },
   "outputs": [],
   "source": [
    "X = df[[\"Marks\"]]\n",
    "y = df[\"Hour\"]"
   ]
  },
  {
   "cell_type": "code",
   "execution_count": 4,
   "id": "120fe759",
   "metadata": {
    "execution": {
     "iopub.execute_input": "2025-08-29T17:45:01.469091Z",
     "iopub.status.busy": "2025-08-29T17:45:01.468671Z",
     "iopub.status.idle": "2025-08-29T17:45:01.599610Z",
     "shell.execute_reply": "2025-08-29T17:45:01.598384Z"
    },
    "papermill": {
     "duration": 0.135736,
     "end_time": "2025-08-29T17:45:01.601395",
     "exception": false,
     "start_time": "2025-08-29T17:45:01.465659",
     "status": "completed"
    },
    "tags": []
   },
   "outputs": [
    {
     "data": {
      "text/html": [
       "<style>#sk-container-id-1 {color: black;background-color: white;}#sk-container-id-1 pre{padding: 0;}#sk-container-id-1 div.sk-toggleable {background-color: white;}#sk-container-id-1 label.sk-toggleable__label {cursor: pointer;display: block;width: 100%;margin-bottom: 0;padding: 0.3em;box-sizing: border-box;text-align: center;}#sk-container-id-1 label.sk-toggleable__label-arrow:before {content: \"▸\";float: left;margin-right: 0.25em;color: #696969;}#sk-container-id-1 label.sk-toggleable__label-arrow:hover:before {color: black;}#sk-container-id-1 div.sk-estimator:hover label.sk-toggleable__label-arrow:before {color: black;}#sk-container-id-1 div.sk-toggleable__content {max-height: 0;max-width: 0;overflow: hidden;text-align: left;background-color: #f0f8ff;}#sk-container-id-1 div.sk-toggleable__content pre {margin: 0.2em;color: black;border-radius: 0.25em;background-color: #f0f8ff;}#sk-container-id-1 input.sk-toggleable__control:checked~div.sk-toggleable__content {max-height: 200px;max-width: 100%;overflow: auto;}#sk-container-id-1 input.sk-toggleable__control:checked~label.sk-toggleable__label-arrow:before {content: \"▾\";}#sk-container-id-1 div.sk-estimator input.sk-toggleable__control:checked~label.sk-toggleable__label {background-color: #d4ebff;}#sk-container-id-1 div.sk-label input.sk-toggleable__control:checked~label.sk-toggleable__label {background-color: #d4ebff;}#sk-container-id-1 input.sk-hidden--visually {border: 0;clip: rect(1px 1px 1px 1px);clip: rect(1px, 1px, 1px, 1px);height: 1px;margin: -1px;overflow: hidden;padding: 0;position: absolute;width: 1px;}#sk-container-id-1 div.sk-estimator {font-family: monospace;background-color: #f0f8ff;border: 1px dotted black;border-radius: 0.25em;box-sizing: border-box;margin-bottom: 0.5em;}#sk-container-id-1 div.sk-estimator:hover {background-color: #d4ebff;}#sk-container-id-1 div.sk-parallel-item::after {content: \"\";width: 100%;border-bottom: 1px solid gray;flex-grow: 1;}#sk-container-id-1 div.sk-label:hover label.sk-toggleable__label {background-color: #d4ebff;}#sk-container-id-1 div.sk-serial::before {content: \"\";position: absolute;border-left: 1px solid gray;box-sizing: border-box;top: 0;bottom: 0;left: 50%;z-index: 0;}#sk-container-id-1 div.sk-serial {display: flex;flex-direction: column;align-items: center;background-color: white;padding-right: 0.2em;padding-left: 0.2em;position: relative;}#sk-container-id-1 div.sk-item {position: relative;z-index: 1;}#sk-container-id-1 div.sk-parallel {display: flex;align-items: stretch;justify-content: center;background-color: white;position: relative;}#sk-container-id-1 div.sk-item::before, #sk-container-id-1 div.sk-parallel-item::before {content: \"\";position: absolute;border-left: 1px solid gray;box-sizing: border-box;top: 0;bottom: 0;left: 50%;z-index: -1;}#sk-container-id-1 div.sk-parallel-item {display: flex;flex-direction: column;z-index: 1;position: relative;background-color: white;}#sk-container-id-1 div.sk-parallel-item:first-child::after {align-self: flex-end;width: 50%;}#sk-container-id-1 div.sk-parallel-item:last-child::after {align-self: flex-start;width: 50%;}#sk-container-id-1 div.sk-parallel-item:only-child::after {width: 0;}#sk-container-id-1 div.sk-dashed-wrapped {border: 1px dashed gray;margin: 0 0.4em 0.5em 0.4em;box-sizing: border-box;padding-bottom: 0.4em;background-color: white;}#sk-container-id-1 div.sk-label label {font-family: monospace;font-weight: bold;display: inline-block;line-height: 1.2em;}#sk-container-id-1 div.sk-label-container {text-align: center;}#sk-container-id-1 div.sk-container {/* jupyter's `normalize.less` sets `[hidden] { display: none; }` but bootstrap.min.css set `[hidden] { display: none !important; }` so we also need the `!important` here to be able to override the default hidden behavior on the sphinx rendered scikit-learn.org. See: https://github.com/scikit-learn/scikit-learn/issues/21755 */display: inline-block !important;position: relative;}#sk-container-id-1 div.sk-text-repr-fallback {display: none;}</style><div id=\"sk-container-id-1\" class=\"sk-top-container\"><div class=\"sk-text-repr-fallback\"><pre>RandomForestRegressor(random_state=42)</pre><b>In a Jupyter environment, please rerun this cell to show the HTML representation or trust the notebook. <br />On GitHub, the HTML representation is unable to render, please try loading this page with nbviewer.org.</b></div><div class=\"sk-container\" hidden><div class=\"sk-item\"><div class=\"sk-estimator sk-toggleable\"><input class=\"sk-toggleable__control sk-hidden--visually\" id=\"sk-estimator-id-1\" type=\"checkbox\" checked><label for=\"sk-estimator-id-1\" class=\"sk-toggleable__label sk-toggleable__label-arrow\">RandomForestRegressor</label><div class=\"sk-toggleable__content\"><pre>RandomForestRegressor(random_state=42)</pre></div></div></div></div></div>"
      ],
      "text/plain": [
       "RandomForestRegressor(random_state=42)"
      ]
     },
     "execution_count": 4,
     "metadata": {},
     "output_type": "execute_result"
    }
   ],
   "source": [
    "regressor = RandomForestRegressor(n_estimators = 100, random_state =42)\n",
    "regressor.fit(X, y)\n",
    "\n"
   ]
  },
  {
   "cell_type": "code",
   "execution_count": 5,
   "id": "de79fef8",
   "metadata": {
    "execution": {
     "iopub.execute_input": "2025-08-29T17:45:01.607165Z",
     "iopub.status.busy": "2025-08-29T17:45:01.606671Z",
     "iopub.status.idle": "2025-08-29T17:45:01.620341Z",
     "shell.execute_reply": "2025-08-29T17:45:01.619033Z"
    },
    "papermill": {
     "duration": 0.018496,
     "end_time": "2025-08-29T17:45:01.622220",
     "exception": false,
     "start_time": "2025-08-29T17:45:01.603724",
     "status": "completed"
    },
    "tags": []
   },
   "outputs": [
    {
     "name": "stderr",
     "output_type": "stream",
     "text": [
      "/tmp/ipykernel_13/1636215083.py:1: DeprecationWarning: Conversion of an array with ndim > 0 to a scalar is deprecated, and will error in future. Ensure you extract a single element from your array before performing this operation. (Deprecated NumPy 1.25.)\n",
      "  X_grid = np.arange(min(X.values), max(X.values)+0.1, 0.1).reshape(-1,1)\n",
      "/usr/local/lib/python3.11/dist-packages/sklearn/base.py:439: UserWarning: X does not have valid feature names, but RandomForestRegressor was fitted with feature names\n",
      "  warnings.warn(\n"
     ]
    }
   ],
   "source": [
    "X_grid = np.arange(min(X.values), max(X.values)+0.1, 0.1).reshape(-1,1)\n",
    "\n",
    "y_pred = regressor.predict(X_grid)\n"
   ]
  },
  {
   "cell_type": "code",
   "execution_count": 6,
   "id": "c6e42421",
   "metadata": {
    "execution": {
     "iopub.execute_input": "2025-08-29T17:45:01.628295Z",
     "iopub.status.busy": "2025-08-29T17:45:01.627982Z",
     "iopub.status.idle": "2025-08-29T17:45:02.060224Z",
     "shell.execute_reply": "2025-08-29T17:45:02.059221Z"
    },
    "papermill": {
     "duration": 0.43787,
     "end_time": "2025-08-29T17:45:02.062734",
     "exception": false,
     "start_time": "2025-08-29T17:45:01.624864",
     "status": "completed"
    },
    "tags": []
   },
   "outputs": [
    {
     "data": {
      "image/png": "[encoded data removed]",
      "text/plain": [
       "<Figure size 640x480 with 1 Axes>"
      ]
     },
     "metadata": {},
     "output_type": "display_data"
    }
   ],
   "source": [
    "plt.scatter( X, y, color = \"Blue\")\n",
    "plt.plot(X_grid, y_pred, color = \"red\")\n",
    "plt.title(\"Random Forest Regression (Hours vs Marks)\")\n",
    "plt.xlabel(\"Hours Studied\")\n",
    "plt.ylabel(\"Marks Obtained\")\n",
    "plt.show()"
   ]
  }
 ],
 "metadata": {
  "kaggle": {
   "accelerator": "none",
   "dataSources": [],
   "dockerImageVersionId": 31089,
   "isGpuEnabled": false,
   "isInternetEnabled": false,
   "language": "python",
   "sourceType": "notebook"
  },
  "kernelspec": {
   "display_name": "Python 3",
   "language": "python",
   "name": "python3"
  },
  "language_info": {
   "codemirror_mode": {
    "name": "ipython",
    "version": 3
   },
   "file_extension": ".py",
   "mimetype": "text/x-python",
   "name": "python",
   "nbconvert_exporter": "python",
   "pygments_lexer": "ipython3",
   "version": "3.11.13"
  },
  "papermill": {
   "default_parameters": {},
   "duration": 12.486458,
   "end_time": "2025-08-29T17:45:02.890879",
   "environment_variables": {},
   "exception": null,
   "input_path": "__notebook__.ipynb",
   "output_path": "__notebook__.ipynb",
   "parameters": {},
   "start_time": "2025-08-29T17:44:50.404421",
   "version": "2.6.0"
  }
 },
 "nbformat": 4,
 "nbformat_minor": 5
}
