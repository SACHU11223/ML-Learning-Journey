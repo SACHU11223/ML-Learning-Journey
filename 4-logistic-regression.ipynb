{
 "cells": [
  {
   "cell_type": "code",
   "execution_count": 1,
   "id": "ae1a4c9b",
   "metadata": {
    "_cell_guid": "b1076dfc-b9ad-4769-8c92-a6c4dae69d19",
    "_uuid": "8f2839f25d086af736a60e9eeb907d3b93b6e0e5",
    "execution": {
     "iopub.execute_input": "2025-08-25T18:41:09.328861Z",
     "iopub.status.busy": "2025-08-25T18:41:09.328515Z",
     "iopub.status.idle": "2025-08-25T18:41:12.817213Z",
     "shell.execute_reply": "2025-08-25T18:41:12.816134Z"
    },
    "papermill": {
     "duration": 3.494667,
     "end_time": "2025-08-25T18:41:12.818986",
     "exception": false,
     "start_time": "2025-08-25T18:41:09.324319",
     "status": "completed"
    },
    "tags": []
   },
   "outputs": [],
   "source": [
    "import pandas as pd\n",
    "import numpy as np\n",
    "from sklearn.model_selection import train_test_split\n",
    "from sklearn.linear_model import LogisticRegression\n",
    "from sklearn.metrics import accuracy_score, confusion_matrix, classification_report\n"
   ]
  },
  {
   "cell_type": "code",
   "execution_count": 2,
   "id": "c973b417",
   "metadata": {
    "execution": {
     "iopub.execute_input": "2025-08-25T18:41:12.825342Z",
     "iopub.status.busy": "2025-08-25T18:41:12.824885Z",
     "iopub.status.idle": "2025-08-25T18:41:12.834672Z",
     "shell.execute_reply": "2025-08-25T18:41:12.833592Z"
    },
    "papermill": {
     "duration": 0.014518,
     "end_time": "2025-08-25T18:41:12.836298",
     "exception": false,
     "start_time": "2025-08-25T18:41:12.821780",
     "status": "completed"
    },
    "tags": []
   },
   "outputs": [],
   "source": [
    "data ={\n",
    "    \"Hours_Studied\":[2, 3, 4, 5, 6, 7, 8, 9],\n",
    "    \"Marks\":[30, 35, 40, 50, 55, 65, 80, 90],\n",
    "    \"Pass_Fail\":[0, 0, 0, 1, 1, 1, 1, 1]\n",
    "}\n",
    "\n",
    "df = pd.DataFrame(data)"
   ]
  },
  {
   "cell_type": "code",
   "execution_count": 3,
   "id": "e190e2ee",
   "metadata": {
    "execution": {
     "iopub.execute_input": "2025-08-25T18:41:12.842431Z",
     "iopub.status.busy": "2025-08-25T18:41:12.842090Z",
     "iopub.status.idle": "2025-08-25T18:41:12.856551Z",
     "shell.execute_reply": "2025-08-25T18:41:12.855470Z"
    },
    "papermill": {
     "duration": 0.019251,
     "end_time": "2025-08-25T18:41:12.858035",
     "exception": false,
     "start_time": "2025-08-25T18:41:12.838784",
     "status": "completed"
    },
    "tags": []
   },
   "outputs": [],
   "source": [
    "X = df[[\"Hours_Studied\", \"Marks\"]]\n",
    "y = df[\"Pass_Fail\"]"
   ]
  },
  {
   "cell_type": "code",
   "execution_count": 4,
   "id": "008c2270",
   "metadata": {
    "execution": {
     "iopub.execute_input": "2025-08-25T18:41:12.864132Z",
     "iopub.status.busy": "2025-08-25T18:41:12.863361Z",
     "iopub.status.idle": "2025-08-25T18:41:12.873163Z",
     "shell.execute_reply": "2025-08-25T18:41:12.872144Z"
    },
    "papermill": {
     "duration": 0.014454,
     "end_time": "2025-08-25T18:41:12.874770",
     "exception": false,
     "start_time": "2025-08-25T18:41:12.860316",
     "status": "completed"
    },
    "tags": []
   },
   "outputs": [],
   "source": [
    "X_train, X_test, y_train, y_test = train_test_split(X, y, test_size = 0.3, random_state=42)"
   ]
  },
  {
   "cell_type": "code",
   "execution_count": 5,
   "id": "8ad54831",
   "metadata": {
    "execution": {
     "iopub.execute_input": "2025-08-25T18:41:12.880562Z",
     "iopub.status.busy": "2025-08-25T18:41:12.880271Z",
     "iopub.status.idle": "2025-08-25T18:41:12.920653Z",
     "shell.execute_reply": "2025-08-25T18:41:12.919614Z"
    },
    "papermill": {
     "duration": 0.045413,
     "end_time": "2025-08-25T18:41:12.922530",
     "exception": false,
     "start_time": "2025-08-25T18:41:12.877117",
     "status": "completed"
    },
    "tags": []
   },
   "outputs": [
    {
     "data": {
      "text/html": [
       "<style>#sk-container-id-1 {color: black;background-color: white;}#sk-container-id-1 pre{padding: 0;}#sk-container-id-1 div.sk-toggleable {background-color: white;}#sk-container-id-1 label.sk-toggleable__label {cursor: pointer;display: block;width: 100%;margin-bottom: 0;padding: 0.3em;box-sizing: border-box;text-align: center;}#sk-container-id-1 label.sk-toggleable__label-arrow:before {content: \"▸\";float: left;margin-right: 0.25em;color: #696969;}#sk-container-id-1 label.sk-toggleable__label-arrow:hover:before {color: black;}#sk-container-id-1 div.sk-estimator:hover label.sk-toggleable__label-arrow:before {color: black;}#sk-container-id-1 div.sk-toggleable__content {max-height: 0;max-width: 0;overflow: hidden;text-align: left;background-color: #f0f8ff;}#sk-container-id-1 div.sk-toggleable__content pre {margin: 0.2em;color: black;border-radius: 0.25em;background-color: #f0f8ff;}#sk-container-id-1 input.sk-toggleable__control:checked~div.sk-toggleable__content {max-height: 200px;max-width: 100%;overflow: auto;}#sk-container-id-1 input.sk-toggleable__control:checked~label.sk-toggleable__label-arrow:before {content: \"▾\";}#sk-container-id-1 div.sk-estimator input.sk-toggleable__control:checked~label.sk-toggleable__label {background-color: #d4ebff;}#sk-container-id-1 div.sk-label input.sk-toggleable__control:checked~label.sk-toggleable__label {background-color: #d4ebff;}#sk-container-id-1 input.sk-hidden--visually {border: 0;clip: rect(1px 1px 1px 1px);clip: rect(1px, 1px, 1px, 1px);height: 1px;margin: -1px;overflow: hidden;padding: 0;position: absolute;width: 1px;}#sk-container-id-1 div.sk-estimator {font-family: monospace;background-color: #f0f8ff;border: 1px dotted black;border-radius: 0.25em;box-sizing: border-box;margin-bottom: 0.5em;}#sk-container-id-1 div.sk-estimator:hover {background-color: #d4ebff;}#sk-container-id-1 div.sk-parallel-item::after {content: \"\";width: 100%;border-bottom: 1px solid gray;flex-grow: 1;}#sk-container-id-1 div.sk-label:hover label.sk-toggleable__label {background-color: #d4ebff;}#sk-container-id-1 div.sk-serial::before {content: \"\";position: absolute;border-left: 1px solid gray;box-sizing: border-box;top: 0;bottom: 0;left: 50%;z-index: 0;}#sk-container-id-1 div.sk-serial {display: flex;flex-direction: column;align-items: center;background-color: white;padding-right: 0.2em;padding-left: 0.2em;position: relative;}#sk-container-id-1 div.sk-item {position: relative;z-index: 1;}#sk-container-id-1 div.sk-parallel {display: flex;align-items: stretch;justify-content: center;background-color: white;position: relative;}#sk-container-id-1 div.sk-item::before, #sk-container-id-1 div.sk-parallel-item::before {content: \"\";position: absolute;border-left: 1px solid gray;box-sizing: border-box;top: 0;bottom: 0;left: 50%;z-index: -1;}#sk-container-id-1 div.sk-parallel-item {display: flex;flex-direction: column;z-index: 1;position: relative;background-color: white;}#sk-container-id-1 div.sk-parallel-item:first-child::after {align-self: flex-end;width: 50%;}#sk-container-id-1 div.sk-parallel-item:last-child::after {align-self: flex-start;width: 50%;}#sk-container-id-1 div.sk-parallel-item:only-child::after {width: 0;}#sk-container-id-1 div.sk-dashed-wrapped {border: 1px dashed gray;margin: 0 0.4em 0.5em 0.4em;box-sizing: border-box;padding-bottom: 0.4em;background-color: white;}#sk-container-id-1 div.sk-label label {font-family: monospace;font-weight: bold;display: inline-block;line-height: 1.2em;}#sk-container-id-1 div.sk-label-container {text-align: center;}#sk-container-id-1 div.sk-container {/* jupyter's `normalize.less` sets `[hidden] { display: none; }` but bootstrap.min.css set `[hidden] { display: none !important; }` so we also need the `!important` here to be able to override the default hidden behavior on the sphinx rendered scikit-learn.org. See: https://github.com/scikit-learn/scikit-learn/issues/21755 */display: inline-block !important;position: relative;}#sk-container-id-1 div.sk-text-repr-fallback {display: none;}</style><div id=\"sk-container-id-1\" class=\"sk-top-container\"><div class=\"sk-text-repr-fallback\"><pre>LogisticRegression()</pre><b>In a Jupyter environment, please rerun this cell to show the HTML representation or trust the notebook. <br />On GitHub, the HTML representation is unable to render, please try loading this page with nbviewer.org.</b></div><div class=\"sk-container\" hidden><div class=\"sk-item\"><div class=\"sk-estimator sk-toggleable\"><input class=\"sk-toggleable__control sk-hidden--visually\" id=\"sk-estimator-id-1\" type=\"checkbox\" checked><label for=\"sk-estimator-id-1\" class=\"sk-toggleable__label sk-toggleable__label-arrow\">LogisticRegression</label><div class=\"sk-toggleable__content\"><pre>LogisticRegression()</pre></div></div></div></div></div>"
      ],
      "text/plain": [
       "LogisticRegression()"
      ]
     },
     "execution_count": 5,
     "metadata": {},
     "output_type": "execute_result"
    }
   ],
   "source": [
    "model = LogisticRegression()\n",
    "model.fit(X_train, y_train)"
   ]
  },
  {
   "cell_type": "code",
   "execution_count": 6,
   "id": "e6216ecc",
   "metadata": {
    "execution": {
     "iopub.execute_input": "2025-08-25T18:41:12.931339Z",
     "iopub.status.busy": "2025-08-25T18:41:12.930996Z",
     "iopub.status.idle": "2025-08-25T18:41:12.938586Z",
     "shell.execute_reply": "2025-08-25T18:41:12.937672Z"
    },
    "papermill": {
     "duration": 0.013996,
     "end_time": "2025-08-25T18:41:12.940628",
     "exception": false,
     "start_time": "2025-08-25T18:41:12.926632",
     "status": "completed"
    },
    "tags": []
   },
   "outputs": [],
   "source": [
    "y_pred = model.predict(X_test)"
   ]
  },
  {
   "cell_type": "code",
   "execution_count": 7,
   "id": "3e98217b",
   "metadata": {
    "execution": {
     "iopub.execute_input": "2025-08-25T18:41:12.949679Z",
     "iopub.status.busy": "2025-08-25T18:41:12.948735Z",
     "iopub.status.idle": "2025-08-25T18:41:12.968360Z",
     "shell.execute_reply": "2025-08-25T18:41:12.967478Z"
    },
    "papermill": {
     "duration": 0.026959,
     "end_time": "2025-08-25T18:41:12.971325",
     "exception": false,
     "start_time": "2025-08-25T18:41:12.944366",
     "status": "completed"
    },
    "tags": []
   },
   "outputs": [
    {
     "name": "stdout",
     "output_type": "stream",
     "text": [
      "Accuracy: 1.0\n",
      "Confusion Matrix:\n",
      " [[2 0]\n",
      " [0 1]]\n",
      "Classification report\n",
      "               precision    recall  f1-score   support\n",
      "\n",
      "           0       1.00      1.00      1.00         2\n",
      "           1       1.00      1.00      1.00         1\n",
      "\n",
      "    accuracy                           1.00         3\n",
      "   macro avg       1.00      1.00      1.00         3\n",
      "weighted avg       1.00      1.00      1.00         3\n",
      "\n"
     ]
    }
   ],
   "source": [
    "print(\"Accuracy:\", accuracy_score(y_test, y_pred))\n",
    "print(\"Confusion Matrix:\\n\", confusion_matrix(y_test, y_pred))\n",
    "print(\"Classification report\\n\", classification_report(y_test, y_pred))"
   ]
  },
  {
   "cell_type": "code",
   "execution_count": null,
   "id": "5c826c86",
   "metadata": {
    "papermill": {
     "duration": 0.003246,
     "end_time": "2025-08-25T18:41:12.978419",
     "exception": false,
     "start_time": "2025-08-25T18:41:12.975173",
     "status": "completed"
    },
    "tags": []
   },
   "outputs": [],
   "source": []
  }
 ],
 "metadata": {
  "kaggle": {
   "accelerator": "none",
   "dataSources": [],
   "dockerImageVersionId": 31089,
   "isGpuEnabled": false,
   "isInternetEnabled": false,
   "language": "python",
   "sourceType": "notebook"
  },
  "kernelspec": {
   "display_name": "Python 3",
   "language": "python",
   "name": "python3"
  },
  "language_info": {
   "codemirror_mode": {
    "name": "ipython",
    "version": 3
   },
   "file_extension": ".py",
   "mimetype": "text/x-python",
   "name": "python",
   "nbconvert_exporter": "python",
   "pygments_lexer": "ipython3",
   "version": "3.11.13"
  },
  "papermill": {
   "default_parameters": {},
   "duration": 9.621796,
   "end_time": "2025-08-25T18:41:13.702975",
   "environment_variables": {},
   "exception": null,
   "input_path": "__notebook__.ipynb",
   "output_path": "__notebook__.ipynb",
   "parameters": {},
   "start_time": "2025-08-25T18:41:04.081179",
   "version": "2.6.0"
  }
 },
 "nbformat": 4,
 "nbformat_minor": 5
}
