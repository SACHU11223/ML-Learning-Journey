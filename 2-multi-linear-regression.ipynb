{
 "cells": [
  {
   "cell_type": "code",
   "execution_count": 1,
   "id": "97841390",
   "metadata": {
    "_cell_guid": "b1076dfc-b9ad-4769-8c92-a6c4dae69d19",
    "_uuid": "8f2839f25d086af736a60e9eeb907d3b93b6e0e5",
    "execution": {
     "iopub.execute_input": "2025-08-24T11:28:24.940026Z",
     "iopub.status.busy": "2025-08-24T11:28:24.939731Z",
     "iopub.status.idle": "2025-08-24T11:28:28.072061Z",
     "shell.execute_reply": "2025-08-24T11:28:28.071355Z"
    },
    "papermill": {
     "duration": 3.13762,
     "end_time": "2025-08-24T11:28:28.073591",
     "exception": false,
     "start_time": "2025-08-24T11:28:24.935971",
     "status": "completed"
    },
    "tags": []
   },
   "outputs": [],
   "source": [
    "import pandas as pd\n",
    "import numpy as np\n",
    "from sklearn.model_selection import train_test_split\n",
    "from sklearn.linear_model import LinearRegression\n",
    "from sklearn.metrics import mean_squared_error, r2_score"
   ]
  },
  {
   "cell_type": "code",
   "execution_count": 2,
   "id": "48039a9b",
   "metadata": {
    "execution": {
     "iopub.execute_input": "2025-08-24T11:28:28.078976Z",
     "iopub.status.busy": "2025-08-24T11:28:28.078560Z",
     "iopub.status.idle": "2025-08-24T11:28:28.086289Z",
     "shell.execute_reply": "2025-08-24T11:28:28.085655Z"
    },
    "papermill": {
     "duration": 0.011414,
     "end_time": "2025-08-24T11:28:28.087423",
     "exception": false,
     "start_time": "2025-08-24T11:28:28.076009",
     "status": "completed"
    },
    "tags": []
   },
   "outputs": [],
   "source": [
    "data = {\n",
    "    \"Hours\":[5,6,4,7,8,5,6,7,4,5],\n",
    "    \"Sleep\":[7,6,8,5,6,7,6,5,8,7],\n",
    "    \"MethodScore\":[8,7,6,9,8,7,7,8,6,7],\n",
    "    \"Marks\":[65,68,60,72,75,66,69,73,61,64]\n",
    "}\n",
    "\n",
    "df= pd.DataFrame(data)"
   ]
  },
  {
   "cell_type": "code",
   "execution_count": 3,
   "id": "ad485635",
   "metadata": {
    "execution": {
     "iopub.execute_input": "2025-08-24T11:28:28.092092Z",
     "iopub.status.busy": "2025-08-24T11:28:28.091831Z",
     "iopub.status.idle": "2025-08-24T11:28:28.109421Z",
     "shell.execute_reply": "2025-08-24T11:28:28.108707Z"
    },
    "papermill": {
     "duration": 0.021305,
     "end_time": "2025-08-24T11:28:28.110760",
     "exception": false,
     "start_time": "2025-08-24T11:28:28.089455",
     "status": "completed"
    },
    "tags": []
   },
   "outputs": [],
   "source": [
    "X= df[[\"Hours\",\"Sleep\",\"MethodScore\"]]\n",
    "y= df[\"Marks\"]\n",
    "X_train, X_test, y_train, y_test = train_test_split(X,y,test_size=0.2,random_state=42)"
   ]
  },
  {
   "cell_type": "code",
   "execution_count": 4,
   "id": "716c949f",
   "metadata": {
    "execution": {
     "iopub.execute_input": "2025-08-24T11:28:28.115467Z",
     "iopub.status.busy": "2025-08-24T11:28:28.115213Z",
     "iopub.status.idle": "2025-08-24T11:28:28.153779Z",
     "shell.execute_reply": "2025-08-24T11:28:28.152889Z"
    },
    "papermill": {
     "duration": 0.042502,
     "end_time": "2025-08-24T11:28:28.155253",
     "exception": false,
     "start_time": "2025-08-24T11:28:28.112751",
     "status": "completed"
    },
    "tags": []
   },
   "outputs": [
    {
     "data": {
      "text/html": [
       "<style>#sk-container-id-1 {color: black;background-color: white;}#sk-container-id-1 pre{padding: 0;}#sk-container-id-1 div.sk-toggleable {background-color: white;}#sk-container-id-1 label.sk-toggleable__label {cursor: pointer;display: block;width: 100%;margin-bottom: 0;padding: 0.3em;box-sizing: border-box;text-align: center;}#sk-container-id-1 label.sk-toggleable__label-arrow:before {content: \"▸\";float: left;margin-right: 0.25em;color: #696969;}#sk-container-id-1 label.sk-toggleable__label-arrow:hover:before {color: black;}#sk-container-id-1 div.sk-estimator:hover label.sk-toggleable__label-arrow:before {color: black;}#sk-container-id-1 div.sk-toggleable__content {max-height: 0;max-width: 0;overflow: hidden;text-align: left;background-color: #f0f8ff;}#sk-container-id-1 div.sk-toggleable__content pre {margin: 0.2em;color: black;border-radius: 0.25em;background-color: #f0f8ff;}#sk-container-id-1 input.sk-toggleable__control:checked~div.sk-toggleable__content {max-height: 200px;max-width: 100%;overflow: auto;}#sk-container-id-1 input.sk-toggleable__control:checked~label.sk-toggleable__label-arrow:before {content: \"▾\";}#sk-container-id-1 div.sk-estimator input.sk-toggleable__control:checked~label.sk-toggleable__label {background-color: #d4ebff;}#sk-container-id-1 div.sk-label input.sk-toggleable__control:checked~label.sk-toggleable__label {background-color: #d4ebff;}#sk-container-id-1 input.sk-hidden--visually {border: 0;clip: rect(1px 1px 1px 1px);clip: rect(1px, 1px, 1px, 1px);height: 1px;margin: -1px;overflow: hidden;padding: 0;position: absolute;width: 1px;}#sk-container-id-1 div.sk-estimator {font-family: monospace;background-color: #f0f8ff;border: 1px dotted black;border-radius: 0.25em;box-sizing: border-box;margin-bottom: 0.5em;}#sk-container-id-1 div.sk-estimator:hover {background-color: #d4ebff;}#sk-container-id-1 div.sk-parallel-item::after {content: \"\";width: 100%;border-bottom: 1px solid gray;flex-grow: 1;}#sk-container-id-1 div.sk-label:hover label.sk-toggleable__label {background-color: #d4ebff;}#sk-container-id-1 div.sk-serial::before {content: \"\";position: absolute;border-left: 1px solid gray;box-sizing: border-box;top: 0;bottom: 0;left: 50%;z-index: 0;}#sk-container-id-1 div.sk-serial {display: flex;flex-direction: column;align-items: center;background-color: white;padding-right: 0.2em;padding-left: 0.2em;position: relative;}#sk-container-id-1 div.sk-item {position: relative;z-index: 1;}#sk-container-id-1 div.sk-parallel {display: flex;align-items: stretch;justify-content: center;background-color: white;position: relative;}#sk-container-id-1 div.sk-item::before, #sk-container-id-1 div.sk-parallel-item::before {content: \"\";position: absolute;border-left: 1px solid gray;box-sizing: border-box;top: 0;bottom: 0;left: 50%;z-index: -1;}#sk-container-id-1 div.sk-parallel-item {display: flex;flex-direction: column;z-index: 1;position: relative;background-color: white;}#sk-container-id-1 div.sk-parallel-item:first-child::after {align-self: flex-end;width: 50%;}#sk-container-id-1 div.sk-parallel-item:last-child::after {align-self: flex-start;width: 50%;}#sk-container-id-1 div.sk-parallel-item:only-child::after {width: 0;}#sk-container-id-1 div.sk-dashed-wrapped {border: 1px dashed gray;margin: 0 0.4em 0.5em 0.4em;box-sizing: border-box;padding-bottom: 0.4em;background-color: white;}#sk-container-id-1 div.sk-label label {font-family: monospace;font-weight: bold;display: inline-block;line-height: 1.2em;}#sk-container-id-1 div.sk-label-container {text-align: center;}#sk-container-id-1 div.sk-container {/* jupyter's `normalize.less` sets `[hidden] { display: none; }` but bootstrap.min.css set `[hidden] { display: none !important; }` so we also need the `!important` here to be able to override the default hidden behavior on the sphinx rendered scikit-learn.org. See: https://github.com/scikit-learn/scikit-learn/issues/21755 */display: inline-block !important;position: relative;}#sk-container-id-1 div.sk-text-repr-fallback {display: none;}</style><div id=\"sk-container-id-1\" class=\"sk-top-container\"><div class=\"sk-text-repr-fallback\"><pre>LinearRegression()</pre><b>In a Jupyter environment, please rerun this cell to show the HTML representation or trust the notebook. <br />On GitHub, the HTML representation is unable to render, please try loading this page with nbviewer.org.</b></div><div class=\"sk-container\" hidden><div class=\"sk-item\"><div class=\"sk-estimator sk-toggleable\"><input class=\"sk-toggleable__control sk-hidden--visually\" id=\"sk-estimator-id-1\" type=\"checkbox\" checked><label for=\"sk-estimator-id-1\" class=\"sk-toggleable__label sk-toggleable__label-arrow\">LinearRegression</label><div class=\"sk-toggleable__content\"><pre>LinearRegression()</pre></div></div></div></div></div>"
      ],
      "text/plain": [
       "LinearRegression()"
      ]
     },
     "execution_count": 4,
     "metadata": {},
     "output_type": "execute_result"
    }
   ],
   "source": [
    "model = LinearRegression()\n",
    "model.fit(X_train, y_train)"
   ]
  },
  {
   "cell_type": "code",
   "execution_count": 5,
   "id": "70738c05",
   "metadata": {
    "execution": {
     "iopub.execute_input": "2025-08-24T11:28:28.160489Z",
     "iopub.status.busy": "2025-08-24T11:28:28.160220Z",
     "iopub.status.idle": "2025-08-24T11:28:28.167212Z",
     "shell.execute_reply": "2025-08-24T11:28:28.166503Z"
    },
    "papermill": {
     "duration": 0.011024,
     "end_time": "2025-08-24T11:28:28.168493",
     "exception": false,
     "start_time": "2025-08-24T11:28:28.157469",
     "status": "completed"
    },
    "tags": []
   },
   "outputs": [],
   "source": [
    "y_pred = model.predict(X_test)"
   ]
  },
  {
   "cell_type": "code",
   "execution_count": 6,
   "id": "bd533551",
   "metadata": {
    "execution": {
     "iopub.execute_input": "2025-08-24T11:28:28.173799Z",
     "iopub.status.busy": "2025-08-24T11:28:28.173167Z",
     "iopub.status.idle": "2025-08-24T11:28:28.180018Z",
     "shell.execute_reply": "2025-08-24T11:28:28.179246Z"
    },
    "papermill": {
     "duration": 0.010702,
     "end_time": "2025-08-24T11:28:28.181317",
     "exception": false,
     "start_time": "2025-08-24T11:28:28.170615",
     "status": "completed"
    },
    "tags": []
   },
   "outputs": [
    {
     "name": "stdout",
     "output_type": "stream",
     "text": [
      "Predicted: [60.72566372 68.80530973]\n",
      "Actual: 8    61\n",
      "1    68\n",
      "Name: Marks, dtype: int64\n",
      "MSE: 0.36189208238703885\n",
      "R2 Score: 0.9704577891928948\n"
     ]
    }
   ],
   "source": [
    "print(\"Predicted:\", y_pred)\n",
    "print(\"Actual:\", y_test)\n",
    "print(\"MSE:\", mean_squared_error(y_test, y_pred))\n",
    "print(\"R2 Score:\", r2_score(y_test, y_pred))"
   ]
  },
  {
   "cell_type": "code",
   "execution_count": 7,
   "id": "ba3d92b0",
   "metadata": {
    "execution": {
     "iopub.execute_input": "2025-08-24T11:28:28.186525Z",
     "iopub.status.busy": "2025-08-24T11:28:28.186030Z",
     "iopub.status.idle": "2025-08-24T11:28:28.518980Z",
     "shell.execute_reply": "2025-08-24T11:28:28.518096Z"
    },
    "papermill": {
     "duration": 0.336968,
     "end_time": "2025-08-24T11:28:28.520352",
     "exception": false,
     "start_time": "2025-08-24T11:28:28.183384",
     "status": "completed"
    },
    "tags": []
   },
   "outputs": [
    {
     "data": {
      "image/png": "[encoded data removed]",
      "text/plain": [
       "<Figure size 640x480 with 1 Axes>"
      ]
     },
     "metadata": {},
     "output_type": "display_data"
    }
   ],
   "source": [
    "import matplotlib.pyplot as plt\n",
    "\n",
    "plt.scatter(df[\"Hours\"],df[\"Marks\"], color=\"blue\", label=\"Hours Vs Marks\")\n",
    "plt.scatter(df[\"Sleep\"],df[\"Marks\"], color=\"green\", label=\"Sleep Vs Marks\")\n",
    "plt.scatter(df[\"MethodScore\"],df[\"Marks\"], color=\"red\", label=\"MethodScore Vs Marks\")\n",
    "\n",
    "plt.legend()\n",
    "plt.show()"
   ]
  }
 ],
 "metadata": {
  "kaggle": {
   "accelerator": "none",
   "dataSources": [],
   "dockerImageVersionId": 31089,
   "isGpuEnabled": false,
   "isInternetEnabled": false,
   "language": "python",
   "sourceType": "notebook"
  },
  "kernelspec": {
   "display_name": "Python 3",
   "language": "python",
   "name": "python3"
  },
  "language_info": {
   "codemirror_mode": {
    "name": "ipython",
    "version": 3
   },
   "file_extension": ".py",
   "mimetype": "text/x-python",
   "name": "python",
   "nbconvert_exporter": "python",
   "pygments_lexer": "ipython3",
   "version": "3.11.13"
  },
  "papermill": {
   "default_parameters": {},
   "duration": 9.099077,
   "end_time": "2025-08-24T11:28:29.141412",
   "environment_variables": {},
   "exception": null,
   "input_path": "__notebook__.ipynb",
   "output_path": "__notebook__.ipynb",
   "parameters": {},
   "start_time": "2025-08-24T11:28:20.042335",
   "version": "2.6.0"
  }
 },
 "nbformat": 4,
 "nbformat_minor": 5
}
