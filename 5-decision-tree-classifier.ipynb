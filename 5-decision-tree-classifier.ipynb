{
 "cells": [
  {
   "cell_type": "code",
   "execution_count": 1,
   "id": "f1d47286",
   "metadata": {
    "_cell_guid": "b1076dfc-b9ad-4769-8c92-a6c4dae69d19",
    "_uuid": "8f2839f25d086af736a60e9eeb907d3b93b6e0e5",
    "execution": {
     "iopub.execute_input": "2025-08-26T18:31:33.988280Z",
     "iopub.status.busy": "2025-08-26T18:31:33.987795Z",
     "iopub.status.idle": "2025-08-26T18:31:38.922322Z",
     "shell.execute_reply": "2025-08-26T18:31:38.920924Z"
    },
    "papermill": {
     "duration": 4.941715,
     "end_time": "2025-08-26T18:31:38.924513",
     "exception": false,
     "start_time": "2025-08-26T18:31:33.982798",
     "status": "completed"
    },
    "tags": []
   },
   "outputs": [],
   "source": [
    "import pandas as pd\n",
    "from sklearn.model_selection import train_test_split\n",
    "from sklearn.tree import DecisionTreeClassifier, plot_tree\n",
    "import matplotlib.pyplot as plt"
   ]
  },
  {
   "cell_type": "code",
   "execution_count": 2,
   "id": "480ef525",
   "metadata": {
    "execution": {
     "iopub.execute_input": "2025-08-26T18:31:38.932493Z",
     "iopub.status.busy": "2025-08-26T18:31:38.931903Z",
     "iopub.status.idle": "2025-08-26T18:31:38.943069Z",
     "shell.execute_reply": "2025-08-26T18:31:38.941770Z"
    },
    "papermill": {
     "duration": 0.017305,
     "end_time": "2025-08-26T18:31:38.945420",
     "exception": false,
     "start_time": "2025-08-26T18:31:38.928115",
     "status": "completed"
    },
    "tags": []
   },
   "outputs": [],
   "source": [
    "data = {\n",
    "    \"Hours\":[2, 4, 6, 7, 8, 3, 5, 9],\n",
    "    \"Attendence\":[60, 65, 80, 85, 90, 55, 70, 95],\n",
    "    \"Pass\":[0, 0, 1, 1, 1, 0, 1, 1]\n",
    "}\n",
    "\n",
    "df = pd.DataFrame(data)"
   ]
  },
  {
   "cell_type": "code",
   "execution_count": 3,
   "id": "7f7b819a",
   "metadata": {
    "execution": {
     "iopub.execute_input": "2025-08-26T18:31:38.951693Z",
     "iopub.status.busy": "2025-08-26T18:31:38.951141Z",
     "iopub.status.idle": "2025-08-26T18:31:38.970755Z",
     "shell.execute_reply": "2025-08-26T18:31:38.969511Z"
    },
    "papermill": {
     "duration": 0.025153,
     "end_time": "2025-08-26T18:31:38.972895",
     "exception": false,
     "start_time": "2025-08-26T18:31:38.947742",
     "status": "completed"
    },
    "tags": []
   },
   "outputs": [],
   "source": [
    "X = df[[\"Hours\", \"Attendence\"]]\n",
    "y = df[\"Pass\"]"
   ]
  },
  {
   "cell_type": "code",
   "execution_count": 4,
   "id": "394a9942",
   "metadata": {
    "execution": {
     "iopub.execute_input": "2025-08-26T18:31:38.979358Z",
     "iopub.status.busy": "2025-08-26T18:31:38.978952Z",
     "iopub.status.idle": "2025-08-26T18:31:38.991447Z",
     "shell.execute_reply": "2025-08-26T18:31:38.990412Z"
    },
    "papermill": {
     "duration": 0.017939,
     "end_time": "2025-08-26T18:31:38.993373",
     "exception": false,
     "start_time": "2025-08-26T18:31:38.975434",
     "status": "completed"
    },
    "tags": []
   },
   "outputs": [],
   "source": [
    "X_train, X_test, y_train, y_test = train_test_split(X, y, test_size=0.3, random_state=42)"
   ]
  },
  {
   "cell_type": "code",
   "execution_count": 5,
   "id": "773d473e",
   "metadata": {
    "execution": {
     "iopub.execute_input": "2025-08-26T18:31:39.000241Z",
     "iopub.status.busy": "2025-08-26T18:31:38.999800Z",
     "iopub.status.idle": "2025-08-26T18:31:39.021503Z",
     "shell.execute_reply": "2025-08-26T18:31:39.020353Z"
    },
    "papermill": {
     "duration": 0.027204,
     "end_time": "2025-08-26T18:31:39.023222",
     "exception": false,
     "start_time": "2025-08-26T18:31:38.996018",
     "status": "completed"
    },
    "tags": []
   },
   "outputs": [
    {
     "data": {
      "text/html": [
       "<style>#sk-container-id-1 {color: black;background-color: white;}#sk-container-id-1 pre{padding: 0;}#sk-container-id-1 div.sk-toggleable {background-color: white;}#sk-container-id-1 label.sk-toggleable__label {cursor: pointer;display: block;width: 100%;margin-bottom: 0;padding: 0.3em;box-sizing: border-box;text-align: center;}#sk-container-id-1 label.sk-toggleable__label-arrow:before {content: \"▸\";float: left;margin-right: 0.25em;color: #696969;}#sk-container-id-1 label.sk-toggleable__label-arrow:hover:before {color: black;}#sk-container-id-1 div.sk-estimator:hover label.sk-toggleable__label-arrow:before {color: black;}#sk-container-id-1 div.sk-toggleable__content {max-height: 0;max-width: 0;overflow: hidden;text-align: left;background-color: #f0f8ff;}#sk-container-id-1 div.sk-toggleable__content pre {margin: 0.2em;color: black;border-radius: 0.25em;background-color: #f0f8ff;}#sk-container-id-1 input.sk-toggleable__control:checked~div.sk-toggleable__content {max-height: 200px;max-width: 100%;overflow: auto;}#sk-container-id-1 input.sk-toggleable__control:checked~label.sk-toggleable__label-arrow:before {content: \"▾\";}#sk-container-id-1 div.sk-estimator input.sk-toggleable__control:checked~label.sk-toggleable__label {background-color: #d4ebff;}#sk-container-id-1 div.sk-label input.sk-toggleable__control:checked~label.sk-toggleable__label {background-color: #d4ebff;}#sk-container-id-1 input.sk-hidden--visually {border: 0;clip: rect(1px 1px 1px 1px);clip: rect(1px, 1px, 1px, 1px);height: 1px;margin: -1px;overflow: hidden;padding: 0;position: absolute;width: 1px;}#sk-container-id-1 div.sk-estimator {font-family: monospace;background-color: #f0f8ff;border: 1px dotted black;border-radius: 0.25em;box-sizing: border-box;margin-bottom: 0.5em;}#sk-container-id-1 div.sk-estimator:hover {background-color: #d4ebff;}#sk-container-id-1 div.sk-parallel-item::after {content: \"\";width: 100%;border-bottom: 1px solid gray;flex-grow: 1;}#sk-container-id-1 div.sk-label:hover label.sk-toggleable__label {background-color: #d4ebff;}#sk-container-id-1 div.sk-serial::before {content: \"\";position: absolute;border-left: 1px solid gray;box-sizing: border-box;top: 0;bottom: 0;left: 50%;z-index: 0;}#sk-container-id-1 div.sk-serial {display: flex;flex-direction: column;align-items: center;background-color: white;padding-right: 0.2em;padding-left: 0.2em;position: relative;}#sk-container-id-1 div.sk-item {position: relative;z-index: 1;}#sk-container-id-1 div.sk-parallel {display: flex;align-items: stretch;justify-content: center;background-color: white;position: relative;}#sk-container-id-1 div.sk-item::before, #sk-container-id-1 div.sk-parallel-item::before {content: \"\";position: absolute;border-left: 1px solid gray;box-sizing: border-box;top: 0;bottom: 0;left: 50%;z-index: -1;}#sk-container-id-1 div.sk-parallel-item {display: flex;flex-direction: column;z-index: 1;position: relative;background-color: white;}#sk-container-id-1 div.sk-parallel-item:first-child::after {align-self: flex-end;width: 50%;}#sk-container-id-1 div.sk-parallel-item:last-child::after {align-self: flex-start;width: 50%;}#sk-container-id-1 div.sk-parallel-item:only-child::after {width: 0;}#sk-container-id-1 div.sk-dashed-wrapped {border: 1px dashed gray;margin: 0 0.4em 0.5em 0.4em;box-sizing: border-box;padding-bottom: 0.4em;background-color: white;}#sk-container-id-1 div.sk-label label {font-family: monospace;font-weight: bold;display: inline-block;line-height: 1.2em;}#sk-container-id-1 div.sk-label-container {text-align: center;}#sk-container-id-1 div.sk-container {/* jupyter's `normalize.less` sets `[hidden] { display: none; }` but bootstrap.min.css set `[hidden] { display: none !important; }` so we also need the `!important` here to be able to override the default hidden behavior on the sphinx rendered scikit-learn.org. See: https://github.com/scikit-learn/scikit-learn/issues/21755 */display: inline-block !important;position: relative;}#sk-container-id-1 div.sk-text-repr-fallback {display: none;}</style><div id=\"sk-container-id-1\" class=\"sk-top-container\"><div class=\"sk-text-repr-fallback\"><pre>DecisionTreeClassifier(criterion=&#x27;entropy&#x27;, max_depth=3, random_state=42)</pre><b>In a Jupyter environment, please rerun this cell to show the HTML representation or trust the notebook. <br />On GitHub, the HTML representation is unable to render, please try loading this page with nbviewer.org.</b></div><div class=\"sk-container\" hidden><div class=\"sk-item\"><div class=\"sk-estimator sk-toggleable\"><input class=\"sk-toggleable__control sk-hidden--visually\" id=\"sk-estimator-id-1\" type=\"checkbox\" checked><label for=\"sk-estimator-id-1\" class=\"sk-toggleable__label sk-toggleable__label-arrow\">DecisionTreeClassifier</label><div class=\"sk-toggleable__content\"><pre>DecisionTreeClassifier(criterion=&#x27;entropy&#x27;, max_depth=3, random_state=42)</pre></div></div></div></div></div>"
      ],
      "text/plain": [
       "DecisionTreeClassifier(criterion='entropy', max_depth=3, random_state=42)"
      ]
     },
     "execution_count": 5,
     "metadata": {},
     "output_type": "execute_result"
    }
   ],
   "source": [
    "clf = DecisionTreeClassifier(criterion=\"entropy\", max_depth=3, random_state=42)\n",
    "clf.fit(X_train, y_train)"
   ]
  },
  {
   "cell_type": "code",
   "execution_count": 6,
   "id": "a9ec2159",
   "metadata": {
    "execution": {
     "iopub.execute_input": "2025-08-26T18:31:39.030085Z",
     "iopub.status.busy": "2025-08-26T18:31:39.029729Z",
     "iopub.status.idle": "2025-08-26T18:31:39.040005Z",
     "shell.execute_reply": "2025-08-26T18:31:39.038364Z"
    },
    "papermill": {
     "duration": 0.015966,
     "end_time": "2025-08-26T18:31:39.042029",
     "exception": false,
     "start_time": "2025-08-26T18:31:39.026063",
     "status": "completed"
    },
    "tags": []
   },
   "outputs": [
    {
     "name": "stdout",
     "output_type": "stream",
     "text": [
      "Accuracy: 1.0\n"
     ]
    }
   ],
   "source": [
    "print(\"Accuracy:\", clf.score(X_train, y_train))"
   ]
  },
  {
   "cell_type": "code",
   "execution_count": 7,
   "id": "18f5f2cf",
   "metadata": {
    "execution": {
     "iopub.execute_input": "2025-08-26T18:31:39.048897Z",
     "iopub.status.busy": "2025-08-26T18:31:39.048503Z",
     "iopub.status.idle": "2025-08-26T18:31:39.285971Z",
     "shell.execute_reply": "2025-08-26T18:31:39.284688Z"
    },
    "papermill": {
     "duration": 0.243045,
     "end_time": "2025-08-26T18:31:39.287850",
     "exception": false,
     "start_time": "2025-08-26T18:31:39.044805",
     "status": "completed"
    },
    "tags": []
   },
   "outputs": [
    {
     "data": {
      "image/png": "[encoded data removed]",
      "text/plain": [
       "<Figure size 800x600 with 1 Axes>"
      ]
     },
     "metadata": {},
     "output_type": "display_data"
    }
   ],
   "source": [
    "plt.figure(figsize=(8,6))\n",
    "plot_tree(clf, feature_names=['Hours', 'Attendence'], class_names=['fail', 'pass'], filled=True)\n",
    "plt.show()"
   ]
  }
 ],
 "metadata": {
  "kaggle": {
   "accelerator": "none",
   "dataSources": [],
   "dockerImageVersionId": 31089,
   "isGpuEnabled": false,
   "isInternetEnabled": false,
   "language": "python",
   "sourceType": "notebook"
  },
  "kernelspec": {
   "display_name": "Python 3",
   "language": "python",
   "name": "python3"
  },
  "language_info": {
   "codemirror_mode": {
    "name": "ipython",
    "version": 3
   },
   "file_extension": ".py",
   "mimetype": "text/x-python",
   "name": "python",
   "nbconvert_exporter": "python",
   "pygments_lexer": "ipython3",
   "version": "3.11.13"
  },
  "papermill": {
   "default_parameters": {},
   "duration": 13.03451,
   "end_time": "2025-08-26T18:31:40.115215",
   "environment_variables": {},
   "exception": null,
   "input_path": "__notebook__.ipynb",
   "output_path": "__notebook__.ipynb",
   "parameters": {},
   "start_time": "2025-08-26T18:31:27.080705",
   "version": "2.6.0"
  }
 },
 "nbformat": 4,
 "nbformat_minor": 5
}
